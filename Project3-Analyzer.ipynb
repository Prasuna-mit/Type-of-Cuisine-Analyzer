{
 "cells": [
  {
   "cell_type": "markdown",
   "metadata": {},
   "source": [
    "# import packages "
   ]
  },
  {
   "cell_type": "code",
   "execution_count": 431,
   "metadata": {},
   "outputs": [],
   "source": [
    "#import \n",
    "import json\n",
    "import pandas as pd\n",
    "import json\n",
    "from nltk.corpus import stopwords\n",
    "from nltk.tokenize import word_tokenize\n",
    "from nltk.stem import PorterStemmer\n",
    "from nltk.tokenize import sent_tokenize, word_tokenize\n",
    "from sklearn.feature_extraction.text import TfidfVectorizer\n",
    "import re\n",
    "from sklearn.model_selection import train_test_split\n",
    "from sklearn.neighbors import KNeighborsClassifier\n",
    "from sklearn.metrics import accuracy_score\n",
    "#import numpy as np\n",
    "ps = PorterStemmer()\n",
    "import numpy as np\n",
    "from scipy.sparse import csr_matrix"
   ]
  },
  {
   "cell_type": "markdown",
   "metadata": {},
   "source": [
    "# Reading json file "
   ]
  },
  {
   "cell_type": "code",
   "execution_count": 432,
   "metadata": {},
   "outputs": [],
   "source": [
    "#https://www.programiz.com/python-programming/json\n",
    "with open(\"C:/Users/16055/Desktop/Project3-Analyzer/yummly.json\") as f:\n",
    "    data = json.load(f)\n",
    "#print(data)"
   ]
  },
  {
   "cell_type": "code",
   "execution_count": 433,
   "metadata": {},
   "outputs": [],
   "source": [
    "id1 = []\n",
    "cuisine = []\n",
    "ingredients = []\n",
    "for i in range(len(data)):\n",
    "    id1.append(data[i]['id'])\n",
    "    cuisine.append(data[i]['cuisine'])\n",
    "    ingredients.append(data[i]['ingredients'])"
   ]
  },
  {
   "cell_type": "code",
   "execution_count": 473,
   "metadata": {},
   "outputs": [],
   "source": [
    "#print(ingredients)"
   ]
  },
  {
   "cell_type": "markdown",
   "metadata": {},
   "source": [
    "# Jsont to dataframe"
   ]
  },
  {
   "cell_type": "code",
   "execution_count": 434,
   "metadata": {},
   "outputs": [],
   "source": [
    "#json to df\n",
    "todf = pd.DataFrame({'id':id1,\n",
    "                   'cuisine':cuisine,\n",
    "                   'ingredients':ingredients})\n",
    "#print(todf.head(5))"
   ]
  },
  {
   "cell_type": "code",
   "execution_count": 435,
   "metadata": {},
   "outputs": [
    {
     "name": "stdout",
     "output_type": "stream",
     "text": [
      "['greek' 'southern_us' 'filipino' 'indian' 'jamaican' 'spanish' 'italian'\n",
      " 'mexican' 'chinese' 'british' 'thai' 'vietnamese' 'cajun_creole'\n",
      " 'brazilian' 'french' 'japanese' 'irish' 'korean' 'moroccan' 'russian']\n"
     ]
    }
   ],
   "source": [
    "# Get a series of unique values in column 'cuisine' of the dataframe\n",
    "uniqueValues = todf['cuisine'].unique()\n",
    "print(uniqueValues)"
   ]
  },
  {
   "cell_type": "code",
   "execution_count": 436,
   "metadata": {},
   "outputs": [],
   "source": [
    "lst = []\n",
    "for s in todf['ingredients']:\n",
    "    s = ' '.join(s)\n",
    "    lst.append(s)\n",
    "todf['ingredients1'] = lst"
   ]
  },
  {
   "cell_type": "markdown",
   "metadata": {},
   "source": [
    "# Data Preprocessing"
   ]
  },
  {
   "cell_type": "code",
   "execution_count": 437,
   "metadata": {},
   "outputs": [
    {
     "name": "stdout",
     "output_type": "stream",
     "text": [
      "      id      cuisine                                        ingredients  \\\n",
      "0  10259        greek  [romaine lettuce, black olives, grape tomatoes...   \n",
      "1  25693  southern_us  [plain flour, ground pepper, salt, tomatoes, g...   \n",
      "2  20130     filipino  [eggs, pepper, salt, mayonaise, cooking oil, g...   \n",
      "3  22213       indian                [water, vegetable oil, wheat, salt]   \n",
      "4  13162       indian  [black pepper, shallots, cornflour, cayenne pe...   \n",
      "5   6602     jamaican  [plain flour, sugar, butter, eggs, fresh ginge...   \n",
      "6  42779      spanish  [olive oil, salt, medium shrimp, pepper, garli...   \n",
      "7   3735      italian  [sugar, pistachio nuts, white almond bark, flo...   \n",
      "8  16903      mexican  [olive oil, purple onion, fresh pineapple, por...   \n",
      "9  12734      italian  [chopped tomatoes, fresh basil, garlic, extra-...   \n",
      "\n",
      "                                        ingredients1  \\\n",
      "0  romaine lettuce black olives grape tomatoes ga...   \n",
      "1  plain flour ground pepper salt tomatoes ground...   \n",
      "2  eggs pepper salt mayonaise cooking oil green c...   \n",
      "3                     water vegetable oil wheat salt   \n",
      "4  black pepper shallots cornflour cayenne pepper...   \n",
      "5  plain flour sugar butter eggs fresh ginger roo...   \n",
      "6  olive oil salt medium shrimp pepper garlic cho...   \n",
      "7  sugar pistachio nuts white almond bark flour v...   \n",
      "8  olive oil purple onion fresh pineapple pork po...   \n",
      "9  chopped tomatoes fresh basil garlic extra-virg...   \n",
      "\n",
      "                                        ingredients2  \n",
      "0  romain lettuc black oliv grape tomato garlic p...  \n",
      "1  plain flour ground pepper salt tomato ground b...  \n",
      "2  egg pepper salt mayonais cook oil green chili ...  \n",
      "3                         water veget oil wheat salt  \n",
      "4  black pepper shallot cornflour cayenn pepper o...  \n",
      "5  plain flour sugar butter egg fresh ginger root...  \n",
      "6  oliv oil salt medium shrimp pepper garlic chop...  \n",
      "7  sugar pistachio nut white almond bark flour va...  \n",
      "8  oliv oil purpl onion fresh pineappl pork pobla...  \n",
      "9  chop tomato fresh basil garlic extra-virgin ol...  \n"
     ]
    }
   ],
   "source": [
    "list1=[]\n",
    "for s in todf['ingredients1']:\n",
    "\n",
    "    #Remove content inside paranthesis\n",
    "    s=re.sub(r'\\([^)]*\\)', '', s)\n",
    "    s=s.lower()\n",
    "    #Remove Stop Words\n",
    "    stop_words = set(stopwords.words('english'))\n",
    "    word_tokens = word_tokenize(s)\n",
    "    #filtered = [w for w in word_tokens if not w in stop_words]\n",
    "    filtered = []\n",
    "    for k in word_tokens:\n",
    "        if k not in stop_words:\n",
    "            filtered.append(k)\n",
    "    s=' '.join(filtered)\n",
    "    #stemming\n",
    "    words = word_tokenize(s)\n",
    "    p_word=[]\n",
    "    for r in words:\n",
    "        p_word.append(ps.stem(r))\n",
    "    s=' '.join(p_word)\n",
    "    \n",
    "    list1.append(s)\n",
    "todf['ingredients2']=list1\n",
    "print(todf.head(10))"
   ]
  },
  {
   "cell_type": "code",
   "execution_count": 438,
   "metadata": {},
   "outputs": [],
   "source": [
    "df1 = todf['ingredients2']\n",
    "dfI = df1.to_frame()"
   ]
  },
  {
   "cell_type": "code",
   "execution_count": 439,
   "metadata": {},
   "outputs": [
    {
     "data": {
      "text/html": [
       "<div>\n",
       "<style scoped>\n",
       "    .dataframe tbody tr th:only-of-type {\n",
       "        vertical-align: middle;\n",
       "    }\n",
       "\n",
       "    .dataframe tbody tr th {\n",
       "        vertical-align: top;\n",
       "    }\n",
       "\n",
       "    .dataframe thead th {\n",
       "        text-align: right;\n",
       "    }\n",
       "</style>\n",
       "<table border=\"1\" class=\"dataframe\">\n",
       "  <thead>\n",
       "    <tr style=\"text-align: right;\">\n",
       "      <th></th>\n",
       "      <th>ingredients2</th>\n",
       "    </tr>\n",
       "  </thead>\n",
       "  <tbody>\n",
       "    <tr>\n",
       "      <th>0</th>\n",
       "      <td>romain lettuc black oliv grape tomato garlic p...</td>\n",
       "    </tr>\n",
       "    <tr>\n",
       "      <th>1</th>\n",
       "      <td>plain flour ground pepper salt tomato ground b...</td>\n",
       "    </tr>\n",
       "    <tr>\n",
       "      <th>2</th>\n",
       "      <td>egg pepper salt mayonais cook oil green chili ...</td>\n",
       "    </tr>\n",
       "    <tr>\n",
       "      <th>3</th>\n",
       "      <td>water veget oil wheat salt</td>\n",
       "    </tr>\n",
       "    <tr>\n",
       "      <th>4</th>\n",
       "      <td>black pepper shallot cornflour cayenn pepper o...</td>\n",
       "    </tr>\n",
       "    <tr>\n",
       "      <th>...</th>\n",
       "      <td>...</td>\n",
       "    </tr>\n",
       "    <tr>\n",
       "      <th>39769</th>\n",
       "      <td>light brown sugar granul sugar butter warm wat...</td>\n",
       "    </tr>\n",
       "    <tr>\n",
       "      <th>39770</th>\n",
       "      <td>kraft zesti italian dress purpl onion broccoli...</td>\n",
       "    </tr>\n",
       "    <tr>\n",
       "      <th>39771</th>\n",
       "      <td>egg citru fruit raisin sourdough starter flour...</td>\n",
       "    </tr>\n",
       "    <tr>\n",
       "      <th>39772</th>\n",
       "      <td>boneless chicken skinless thigh minc garlic st...</td>\n",
       "    </tr>\n",
       "    <tr>\n",
       "      <th>39773</th>\n",
       "      <td>green chile jalapeno chili onion ground black ...</td>\n",
       "    </tr>\n",
       "  </tbody>\n",
       "</table>\n",
       "<p>39774 rows × 1 columns</p>\n",
       "</div>"
      ],
      "text/plain": [
       "                                            ingredients2\n",
       "0      romain lettuc black oliv grape tomato garlic p...\n",
       "1      plain flour ground pepper salt tomato ground b...\n",
       "2      egg pepper salt mayonais cook oil green chili ...\n",
       "3                             water veget oil wheat salt\n",
       "4      black pepper shallot cornflour cayenn pepper o...\n",
       "...                                                  ...\n",
       "39769  light brown sugar granul sugar butter warm wat...\n",
       "39770  kraft zesti italian dress purpl onion broccoli...\n",
       "39771  egg citru fruit raisin sourdough starter flour...\n",
       "39772  boneless chicken skinless thigh minc garlic st...\n",
       "39773  green chile jalapeno chili onion ground black ...\n",
       "\n",
       "[39774 rows x 1 columns]"
      ]
     },
     "execution_count": 439,
     "metadata": {},
     "output_type": "execute_result"
    }
   ],
   "source": [
    "(dfI)"
   ]
  },
  {
   "cell_type": "markdown",
   "metadata": {},
   "source": [
    "# Vectorization"
   ]
  },
  {
   "cell_type": "code",
   "execution_count": 440,
   "metadata": {},
   "outputs": [
    {
     "name": "stdout",
     "output_type": "stream",
     "text": [
      "  (0, 657)\t0.3359695255798876\n",
      "  (0, 473)\t0.15277452100745567\n",
      "  (0, 848)\t0.3188344451649116\n",
      "  (0, 168)\t0.2092880182332686\n",
      "  (0, 959)\t0.40703515054117445\n",
      "  (0, 2146)\t0.23537186736443025\n",
      "  (0, 1692)\t0.11255826291065263\n",
      "  (0, 1951)\t0.25077141745569775\n",
      "  (0, 1800)\t0.10460769099134244\n",
      "  (0, 964)\t0.11043649163233915\n",
      "  (0, 2471)\t0.14903815672428428\n",
      "  (0, 1040)\t0.3584126796742471\n",
      "  (0, 1688)\t0.14040029603481097\n",
      "  (0, 227)\t0.1467053295352238\n",
      "  (0, 1362)\t0.27914610096744324\n",
      "  (0, 2054)\t0.3587841944572937\n",
      "  (1, 1681)\t0.11722265458009747\n",
      "  (1, 2564)\t0.21074579807409075\n",
      "  (1, 1540)\t0.2126218678159712\n",
      "  (1, 1500)\t0.4042396711233667\n",
      "  (1, 604)\t0.22100434768235555\n",
      "  (1, 2660)\t0.2787429724217884\n",
      "  (1, 1057)\t0.18621805915393727\n",
      "  (1, 788)\t0.18474859092153859\n",
      "  (1, 2455)\t0.2736367456835292\n",
      "  :\t:\n",
      "  (39772, 788)\t0.08994752756439545\n",
      "  (39772, 2104)\t0.052897430995265074\n",
      "  (39772, 893)\t0.08979942567242884\n",
      "  (39772, 964)\t0.062195909477121517\n",
      "  (39773, 442)\t0.2654119719711813\n",
      "  (39773, 2053)\t0.414028514506345\n",
      "  (39773, 186)\t0.22839235891780194\n",
      "  (39773, 492)\t0.24999329371314696\n",
      "  (39773, 1697)\t0.247847130605539\n",
      "  (39773, 761)\t0.1856541657691461\n",
      "  (39773, 2625)\t0.182961202242882\n",
      "  (39773, 1204)\t0.2764349364168115\n",
      "  (39773, 533)\t0.19782051964369954\n",
      "  (39773, 515)\t0.1845504310974715\n",
      "  (39773, 921)\t0.1417300946843435\n",
      "  (39773, 2364)\t0.15297243248687403\n",
      "  (39773, 495)\t0.19285099341699763\n",
      "  (39773, 1057)\t0.34870064021557706\n",
      "  (39773, 2104)\t0.10172493907089264\n",
      "  (39773, 1067)\t0.1416737729023669\n",
      "  (39773, 1692)\t0.1219044224258254\n",
      "  (39773, 1800)\t0.22658736589993952\n",
      "  (39773, 964)\t0.11960647205315639\n",
      "  (39773, 2471)\t0.16141338667695487\n",
      "  (39773, 227)\t0.15888685558320995\n"
     ]
    }
   ],
   "source": [
    "#vectorizing the \n",
    "vectorizer = TfidfVectorizer()\n",
    "vecTran = vectorizer.fit_transform(todf['ingredients2'])\n",
    "print(vecTran)"
   ]
  },
  {
   "cell_type": "code",
   "execution_count": 441,
   "metadata": {},
   "outputs": [],
   "source": [
    "#label encoding\n",
    "encoding = preprocessing.LabelEncoder()\n",
    "encoding.fit(df['cuisine'])\n",
    "todf['cuisine']=encoding.transform(todf['cuisine']) "
   ]
  },
  {
   "cell_type": "code",
   "execution_count": 442,
   "metadata": {
    "scrolled": false
   },
   "outputs": [
    {
     "data": {
      "text/plain": [
       "9     7838\n",
       "13    6438\n",
       "16    4320\n",
       "7     3003\n",
       "3     2673\n",
       "5     2646\n",
       "2     1546\n",
       "18    1539\n",
       "11    1423\n",
       "6     1175\n",
       "17     989\n",
       "12     830\n",
       "19     825\n",
       "14     821\n",
       "1      804\n",
       "4      755\n",
       "8      667\n",
       "10     526\n",
       "15     489\n",
       "0      467\n",
       "Name: cuisine, dtype: int64"
      ]
     },
     "execution_count": 442,
     "metadata": {},
     "output_type": "execute_result"
    }
   ],
   "source": [
    "todf['cuisine'].value_counts()"
   ]
  },
  {
   "cell_type": "code",
   "execution_count": 443,
   "metadata": {},
   "outputs": [],
   "source": [
    "cuisine = todf['cuisine']"
   ]
  },
  {
   "cell_type": "markdown",
   "metadata": {},
   "source": [
    "# Splitting Test and Train data"
   ]
  },
  {
   "cell_type": "code",
   "execution_count": 444,
   "metadata": {},
   "outputs": [],
   "source": [
    "xTrain, xTest, yTrain, yTest = train_test_split(vecTran, cuisine, random_state = 0)"
   ]
  },
  {
   "cell_type": "code",
   "execution_count": 275,
   "metadata": {},
   "outputs": [],
   "source": [
    "#print(yTest)"
   ]
  },
  {
   "cell_type": "markdown",
   "metadata": {},
   "source": [
    "# Clustering and performace evaluation"
   ]
  },
  {
   "cell_type": "code",
   "execution_count": 445,
   "metadata": {},
   "outputs": [],
   "source": [
    "classes = KNeighborsClassifier(n_neighbors = 10, weights='uniform', algorithm='auto')\n",
    "classes.fit(xTrain, yTrain) \n",
    "prediction_y = classes.predict(xTest)"
   ]
  },
  {
   "cell_type": "code",
   "execution_count": 356,
   "metadata": {},
   "outputs": [],
   "source": [
    "#prediction_y"
   ]
  },
  {
   "cell_type": "code",
   "execution_count": 357,
   "metadata": {},
   "outputs": [],
   "source": [
    "#yTest"
   ]
  },
  {
   "cell_type": "code",
   "execution_count": 446,
   "metadata": {},
   "outputs": [
    {
     "data": {
      "text/plain": [
       "0.7541230893000804"
      ]
     },
     "execution_count": 446,
     "metadata": {},
     "output_type": "execute_result"
    }
   ],
   "source": [
    "#to check the performance\n",
    "score = accuracy_score(yTest,prediction_y)\n",
    "score"
   ]
  },
  {
   "cell_type": "markdown",
   "metadata": {},
   "source": [
    "# input of ingredients"
   ]
  },
  {
   "cell_type": "code",
   "execution_count": 447,
   "metadata": {},
   "outputs": [
    {
     "data": {
      "text/html": [
       "<div>\n",
       "<style scoped>\n",
       "    .dataframe tbody tr th:only-of-type {\n",
       "        vertical-align: middle;\n",
       "    }\n",
       "\n",
       "    .dataframe tbody tr th {\n",
       "        vertical-align: top;\n",
       "    }\n",
       "\n",
       "    .dataframe thead th {\n",
       "        text-align: right;\n",
       "    }\n",
       "</style>\n",
       "<table border=\"1\" class=\"dataframe\">\n",
       "  <thead>\n",
       "    <tr style=\"text-align: right;\">\n",
       "      <th></th>\n",
       "      <th>ingredients2</th>\n",
       "    </tr>\n",
       "  </thead>\n",
       "  <tbody>\n",
       "    <tr>\n",
       "      <th>0</th>\n",
       "      <td>romain lettuc black oliv grape tomato garlic p...</td>\n",
       "    </tr>\n",
       "    <tr>\n",
       "      <th>1</th>\n",
       "      <td>plain flour ground pepper salt tomato ground b...</td>\n",
       "    </tr>\n",
       "    <tr>\n",
       "      <th>2</th>\n",
       "      <td>egg pepper salt mayonais cook oil green chili ...</td>\n",
       "    </tr>\n",
       "    <tr>\n",
       "      <th>3</th>\n",
       "      <td>water veget oil wheat salt</td>\n",
       "    </tr>\n",
       "    <tr>\n",
       "      <th>4</th>\n",
       "      <td>black pepper shallot cornflour cayenn pepper o...</td>\n",
       "    </tr>\n",
       "    <tr>\n",
       "      <th>...</th>\n",
       "      <td>...</td>\n",
       "    </tr>\n",
       "    <tr>\n",
       "      <th>39769</th>\n",
       "      <td>light brown sugar granul sugar butter warm wat...</td>\n",
       "    </tr>\n",
       "    <tr>\n",
       "      <th>39770</th>\n",
       "      <td>kraft zesti italian dress purpl onion broccoli...</td>\n",
       "    </tr>\n",
       "    <tr>\n",
       "      <th>39771</th>\n",
       "      <td>egg citru fruit raisin sourdough starter flour...</td>\n",
       "    </tr>\n",
       "    <tr>\n",
       "      <th>39772</th>\n",
       "      <td>boneless chicken skinless thigh minc garlic st...</td>\n",
       "    </tr>\n",
       "    <tr>\n",
       "      <th>39773</th>\n",
       "      <td>green chile jalapeno chili onion ground black ...</td>\n",
       "    </tr>\n",
       "  </tbody>\n",
       "</table>\n",
       "<p>39774 rows × 1 columns</p>\n",
       "</div>"
      ],
      "text/plain": [
       "                                            ingredients2\n",
       "0      romain lettuc black oliv grape tomato garlic p...\n",
       "1      plain flour ground pepper salt tomato ground b...\n",
       "2      egg pepper salt mayonais cook oil green chili ...\n",
       "3                             water veget oil wheat salt\n",
       "4      black pepper shallot cornflour cayenn pepper o...\n",
       "...                                                  ...\n",
       "39769  light brown sugar granul sugar butter warm wat...\n",
       "39770  kraft zesti italian dress purpl onion broccoli...\n",
       "39771  egg citru fruit raisin sourdough starter flour...\n",
       "39772  boneless chicken skinless thigh minc garlic st...\n",
       "39773  green chile jalapeno chili onion ground black ...\n",
       "\n",
       "[39774 rows x 1 columns]"
      ]
     },
     "execution_count": 447,
     "metadata": {},
     "output_type": "execute_result"
    }
   ],
   "source": [
    "df1 = todf['ingredients2']\n",
    "#print(type(df1))\n",
    "dfI = df1.to_frame()\n",
    "dfI"
   ]
  },
  {
   "cell_type": "code",
   "execution_count": 474,
   "metadata": {},
   "outputs": [
    {
     "data": {
      "text/html": [
       "<div>\n",
       "<style scoped>\n",
       "    .dataframe tbody tr th:only-of-type {\n",
       "        vertical-align: middle;\n",
       "    }\n",
       "\n",
       "    .dataframe tbody tr th {\n",
       "        vertical-align: top;\n",
       "    }\n",
       "\n",
       "    .dataframe thead th {\n",
       "        text-align: right;\n",
       "    }\n",
       "</style>\n",
       "<table border=\"1\" class=\"dataframe\">\n",
       "  <thead>\n",
       "    <tr style=\"text-align: right;\">\n",
       "      <th></th>\n",
       "      <th>ingredients2</th>\n",
       "    </tr>\n",
       "  </thead>\n",
       "  <tbody>\n",
       "    <tr>\n",
       "      <th>0</th>\n",
       "      <td>pimentos sweet pepper dried oregano olive oil ...</td>\n",
       "    </tr>\n",
       "    <tr>\n",
       "      <th>1</th>\n",
       "      <td>romain lettuc black oliv grape tomato garlic p...</td>\n",
       "    </tr>\n",
       "    <tr>\n",
       "      <th>2</th>\n",
       "      <td>plain flour ground pepper salt tomato ground b...</td>\n",
       "    </tr>\n",
       "    <tr>\n",
       "      <th>3</th>\n",
       "      <td>egg pepper salt mayonais cook oil green chili ...</td>\n",
       "    </tr>\n",
       "    <tr>\n",
       "      <th>4</th>\n",
       "      <td>water veget oil wheat salt</td>\n",
       "    </tr>\n",
       "    <tr>\n",
       "      <th>...</th>\n",
       "      <td>...</td>\n",
       "    </tr>\n",
       "    <tr>\n",
       "      <th>39770</th>\n",
       "      <td>light brown sugar granul sugar butter warm wat...</td>\n",
       "    </tr>\n",
       "    <tr>\n",
       "      <th>39771</th>\n",
       "      <td>kraft zesti italian dress purpl onion broccoli...</td>\n",
       "    </tr>\n",
       "    <tr>\n",
       "      <th>39772</th>\n",
       "      <td>egg citru fruit raisin sourdough starter flour...</td>\n",
       "    </tr>\n",
       "    <tr>\n",
       "      <th>39773</th>\n",
       "      <td>boneless chicken skinless thigh minc garlic st...</td>\n",
       "    </tr>\n",
       "    <tr>\n",
       "      <th>39774</th>\n",
       "      <td>green chile jalapeno chili onion ground black ...</td>\n",
       "    </tr>\n",
       "  </tbody>\n",
       "</table>\n",
       "<p>39775 rows × 1 columns</p>\n",
       "</div>"
      ],
      "text/plain": [
       "                                            ingredients2\n",
       "0      pimentos sweet pepper dried oregano olive oil ...\n",
       "1      romain lettuc black oliv grape tomato garlic p...\n",
       "2      plain flour ground pepper salt tomato ground b...\n",
       "3      egg pepper salt mayonais cook oil green chili ...\n",
       "4                             water veget oil wheat salt\n",
       "...                                                  ...\n",
       "39770  light brown sugar granul sugar butter warm wat...\n",
       "39771  kraft zesti italian dress purpl onion broccoli...\n",
       "39772  egg citru fruit raisin sourdough starter flour...\n",
       "39773  boneless chicken skinless thigh minc garlic st...\n",
       "39774  green chile jalapeno chili onion ground black ...\n",
       "\n",
       "[39775 rows x 1 columns]"
      ]
     },
     "execution_count": 474,
     "metadata": {},
     "output_type": "execute_result"
    }
   ],
   "source": [
    "test_ingredients = \"\"\"pimentos sweet pepper dried oregano olive oil garlic\"\"\"\n",
    "#test_ingredients = \"\"\"water veget oil wheat salt\"\"\"\n",
    "new = pd.Series([test_ingredients])\n",
    "new1 = pd.DataFrame([new])\n",
    "new1.columns = [\"ingredients2\"]\n",
    "final_input = pd.concat([new1,dfI], ignore_index = True)\n",
    "final_input"
   ]
  },
  {
   "cell_type": "code",
   "execution_count": 475,
   "metadata": {},
   "outputs": [
    {
     "name": "stdout",
     "output_type": "stream",
     "text": [
      "  (0, 965)\t0.0894282329868838\n",
      "  (0, 1682)\t0.08206043460987061\n",
      "  (0, 1690)\t0.5475228689975247\n",
      "  (0, 1699)\t0.18529791561450118\n",
      "  (0, 762)\t0.5475228689975247\n",
      "  (0, 1802)\t0.08470840943490243\n",
      "  (0, 2383)\t0.21074621664592547\n",
      "  (0, 1850)\t0.5475228689975247\n",
      "  (1, 657)\t0.3359693971708159\n",
      "  (1, 473)\t0.15277531314153953\n",
      "  (1, 849)\t0.3188344028585207\n",
      "  (1, 168)\t0.20928852639065135\n",
      "  (1, 960)\t0.40703466503189256\n",
      "  (1, 2149)\t0.23537224445214305\n",
      "  (1, 1694)\t0.11255925712885564\n",
      "  (1, 1954)\t0.25077171716165847\n",
      "  (1, 2474)\t0.1490389676333592\n",
      "  (1, 1041)\t0.35841243848976473\n",
      "  (1, 1689)\t0.14040115034858217\n",
      "  (1, 227)\t0.1467061521666058\n",
      "  (1, 1363)\t0.279146258092438\n",
      "  (1, 2057)\t0.3587839514059733\n",
      "  (1, 965)\t0.11043409384843886\n",
      "  (1, 1802)\t0.10460562760597124\n",
      "  (2, 2567)\t0.2107462736773636\n",
      "  :\t:\n",
      "  (39773, 2107)\t0.05289800539300331\n",
      "  (39773, 894)\t0.08979978795153344\n",
      "  (39773, 965)\t0.06219451410603471\n",
      "  (39773, 1682)\t0.05707044282804385\n",
      "  (39774, 442)\t0.26541362964150267\n",
      "  (39774, 2056)\t0.41403015444205704\n",
      "  (39774, 186)\t0.22839402100572292\n",
      "  (39774, 492)\t0.24999495322339968\n",
      "  (39774, 761)\t0.18565583295707241\n",
      "  (39774, 2628)\t0.18296286975216322\n",
      "  (39774, 1205)\t0.27643659277174787\n",
      "  (39774, 533)\t0.1978221853797987\n",
      "  (39774, 515)\t0.1845520984171079\n",
      "  (39774, 922)\t0.1417317671137875\n",
      "  (39774, 2367)\t0.15297410357475494\n",
      "  (39774, 495)\t0.1928526597461169\n",
      "  (39774, 1058)\t0.3487039772892354\n",
      "  (39774, 2107)\t0.10172661627420496\n",
      "  (39774, 1068)\t0.14167544533853185\n",
      "  (39774, 1694)\t0.12190609722109319\n",
      "  (39774, 2474)\t0.16141505675756554\n",
      "  (39774, 227)\t0.15888852596531491\n",
      "  (39774, 965)\t0.11960446190400321\n",
      "  (39774, 1699)\t0.24782394495322654\n",
      "  (39774, 1802)\t0.22658400799871456\n"
     ]
    }
   ],
   "source": [
    "# to convert into vector\n",
    "vectorizer = TfidfVectorizer()\n",
    "vec_final_input = vectorizer.fit_transform(final_input['ingredients2'])\n",
    "print(vec_final_input)"
   ]
  },
  {
   "cell_type": "code",
   "execution_count": 476,
   "metadata": {},
   "outputs": [
    {
     "data": {
      "text/plain": [
       "scipy.sparse.csr.csr_matrix"
      ]
     },
     "execution_count": 476,
     "metadata": {},
     "output_type": "execute_result"
    }
   ],
   "source": [
    "type(vec_final_input)"
   ]
  },
  {
   "cell_type": "code",
   "execution_count": 477,
   "metadata": {},
   "outputs": [
    {
     "name": "stdout",
     "output_type": "stream",
     "text": [
      "  (0, 657)\t0.3359693971708159\n",
      "  (0, 473)\t0.15277531314153953\n",
      "  (0, 849)\t0.3188344028585207\n",
      "  (0, 168)\t0.20928852639065135\n",
      "  (0, 960)\t0.40703466503189256\n",
      "  (0, 2149)\t0.23537224445214305\n",
      "  (0, 1694)\t0.11255925712885564\n",
      "  (0, 1954)\t0.25077171716165847\n",
      "  (0, 2474)\t0.1490389676333592\n",
      "  (0, 1041)\t0.35841243848976473\n",
      "  (0, 1689)\t0.14040115034858217\n",
      "  (0, 227)\t0.1467061521666058\n",
      "  (0, 1363)\t0.279146258092438\n",
      "  (0, 2057)\t0.3587839514059733\n",
      "  (0, 965)\t0.11043409384843886\n",
      "  (0, 1802)\t0.10460562760597124\n",
      "  (1, 2567)\t0.2107462736773636\n",
      "  (1, 1541)\t0.21262233159092397\n",
      "  (1, 1501)\t0.40423892677867457\n",
      "  (1, 604)\t0.2210047586071116\n",
      "  (1, 2663)\t0.27874301931373746\n",
      "  (1, 1058)\t0.18621868940068648\n",
      "  (1, 789)\t0.18474923043305033\n",
      "  (1, 2458)\t0.27363682476942225\n",
      "  (1, 2107)\t0.10865030738686547\n",
      "  :\t:\n",
      "  (39772, 2107)\t0.05289800539300331\n",
      "  (39772, 894)\t0.08979978795153344\n",
      "  (39772, 965)\t0.06219451410603471\n",
      "  (39772, 1682)\t0.05707044282804385\n",
      "  (39773, 442)\t0.26541362964150267\n",
      "  (39773, 2056)\t0.41403015444205704\n",
      "  (39773, 186)\t0.22839402100572292\n",
      "  (39773, 492)\t0.24999495322339968\n",
      "  (39773, 761)\t0.18565583295707241\n",
      "  (39773, 2628)\t0.18296286975216322\n",
      "  (39773, 1205)\t0.27643659277174787\n",
      "  (39773, 533)\t0.1978221853797987\n",
      "  (39773, 515)\t0.1845520984171079\n",
      "  (39773, 922)\t0.1417317671137875\n",
      "  (39773, 2367)\t0.15297410357475494\n",
      "  (39773, 495)\t0.1928526597461169\n",
      "  (39773, 1058)\t0.3487039772892354\n",
      "  (39773, 2107)\t0.10172661627420496\n",
      "  (39773, 1068)\t0.14167544533853185\n",
      "  (39773, 1694)\t0.12190609722109319\n",
      "  (39773, 2474)\t0.16141505675756554\n",
      "  (39773, 227)\t0.15888852596531491\n",
      "  (39773, 965)\t0.11960446190400321\n",
      "  (39773, 1699)\t0.24782394495322654\n",
      "  (39773, 1802)\t0.22658400799871456\n"
     ]
    }
   ],
   "source": [
    "seperate = vec_final_input[1:,:]\n",
    "print(seperate)"
   ]
  },
  {
   "cell_type": "code",
   "execution_count": 478,
   "metadata": {},
   "outputs": [],
   "source": [
    "test_input_final = vec_final_input[0]"
   ]
  },
  {
   "cell_type": "code",
   "execution_count": 479,
   "metadata": {},
   "outputs": [
    {
     "name": "stdout",
     "output_type": "stream",
     "text": [
      "  (0, 965)\t0.0894282329868838\n",
      "  (0, 1682)\t0.08206043460987061\n",
      "  (0, 1690)\t0.5475228689975247\n",
      "  (0, 1699)\t0.18529791561450118\n",
      "  (0, 762)\t0.5475228689975247\n",
      "  (0, 1802)\t0.08470840943490243\n",
      "  (0, 2383)\t0.21074621664592547\n",
      "  (0, 1850)\t0.5475228689975247\n"
     ]
    }
   ],
   "source": [
    "print(test_input_final)"
   ]
  },
  {
   "cell_type": "markdown",
   "metadata": {},
   "source": [
    "# Preiction using built model"
   ]
  },
  {
   "cell_type": "code",
   "execution_count": 480,
   "metadata": {},
   "outputs": [],
   "source": [
    "classes.fit(seperate, cuisine) \n",
    "prediction_input = classes.predict(test_input_final)\n",
    "#seperate.shape"
   ]
  },
  {
   "cell_type": "code",
   "execution_count": 481,
   "metadata": {},
   "outputs": [
    {
     "name": "stdout",
     "output_type": "stream",
     "text": [
      "9\n"
     ]
    }
   ],
   "source": [
    "int_val = prediction_input[0]\n",
    "print(int_val)"
   ]
  },
  {
   "cell_type": "code",
   "execution_count": 482,
   "metadata": {},
   "outputs": [
    {
     "data": {
      "text/plain": [
       "'9'"
      ]
     },
     "execution_count": 482,
     "metadata": {},
     "output_type": "execute_result"
    }
   ],
   "source": [
    "s_val = np.array2string(int_val)\n",
    "s_val"
   ]
  },
  {
   "cell_type": "markdown",
   "metadata": {},
   "source": [
    "# Display Predicted Cuisine"
   ]
  },
  {
   "cell_type": "code",
   "execution_count": 483,
   "metadata": {},
   "outputs": [
    {
     "name": "stdout",
     "output_type": "stream",
     "text": [
      "italian\n"
     ]
    }
   ],
   "source": [
    "#to find the cuisine\n",
    "cuisine_selection = {'0':'brazilian', '1':'british', '2':'cajun_creole', '3':'chinese', '4':'filipino', '5':'french', '6':'greek', '7':'indian', '8':'irish', '9':'italian', '10':'jamaican', '11':'japanese', '12':'korean', '13':'mexican', '14':'moroccan', '15':'russian', '16':'southern_us', '17':'spanish', '18':'thai', '19':'vietnamese'}\n",
    "for key in cuisine_selection:\n",
    "    if key == s_val:\n",
    "        print(cuisine_selection[key])"
   ]
  },
  {
   "cell_type": "markdown",
   "metadata": {},
   "source": [
    "# Similarity to find top \"n\" similar cuisine's ID and Distance"
   ]
  },
  {
   "cell_type": "code",
   "execution_count": 484,
   "metadata": {},
   "outputs": [],
   "source": [
    "from sklearn.metrics.pairwise import cosine_similarity\n",
    "a = cosine_similarity(test_input_final, seperate).flatten()"
   ]
  },
  {
   "cell_type": "code",
   "execution_count": 485,
   "metadata": {},
   "outputs": [
    {
     "data": {
      "text/plain": [
       "array([0.0187369 , 0.03011907, 0.02635458, ..., 0.        , 0.01024517,\n",
       "       0.07581085])"
      ]
     },
     "execution_count": 485,
     "metadata": {},
     "output_type": "execute_result"
    }
   ],
   "source": [
    "a"
   ]
  },
  {
   "cell_type": "code",
   "execution_count": 486,
   "metadata": {},
   "outputs": [
    {
     "data": {
      "text/plain": [
       "numpy.ndarray"
      ]
     },
     "execution_count": 486,
     "metadata": {},
     "output_type": "execute_result"
    }
   ],
   "source": [
    "type(a)"
   ]
  },
  {
   "cell_type": "code",
   "execution_count": 487,
   "metadata": {},
   "outputs": [
    {
     "name": "stdout",
     "output_type": "stream",
     "text": [
      "       distance\n",
      "0      0.018737\n",
      "1      0.030119\n",
      "2      0.026355\n",
      "3      0.019778\n",
      "4      0.024922\n",
      "...         ...\n",
      "39769  0.000000\n",
      "39770  0.005884\n",
      "39771  0.000000\n",
      "39772  0.010245\n",
      "39773  0.075811\n",
      "\n",
      "[39774 rows x 1 columns]\n"
     ]
    },
    {
     "data": {
      "text/plain": [
       "pandas.core.frame.DataFrame"
      ]
     },
     "execution_count": 487,
     "metadata": {},
     "output_type": "execute_result"
    }
   ],
   "source": [
    "dataframe_distance = pd.DataFrame(a, columns=['distance']) \n",
    "print(dataframe_distance)\n",
    "type(dataframe_distance)"
   ]
  },
  {
   "cell_type": "code",
   "execution_count": 488,
   "metadata": {},
   "outputs": [],
   "source": [
    "#dataframe_distance.to_Dataframe()\n",
    "result = pd.concat([dataframe_distance, todf], axis=1, sort=False)"
   ]
  },
  {
   "cell_type": "code",
   "execution_count": 489,
   "metadata": {},
   "outputs": [
    {
     "data": {
      "text/plain": [
       "pandas.core.frame.DataFrame"
      ]
     },
     "execution_count": 489,
     "metadata": {},
     "output_type": "execute_result"
    }
   ],
   "source": [
    "type(result)"
   ]
  },
  {
   "cell_type": "code",
   "execution_count": 490,
   "metadata": {},
   "outputs": [],
   "source": [
    "#india = result.sort_index(axis=1)"
   ]
  },
  {
   "cell_type": "code",
   "execution_count": 491,
   "metadata": {},
   "outputs": [],
   "source": [
    "result1 = result.sort_values(by='distance', ascending = False)"
   ]
  },
  {
   "cell_type": "code",
   "execution_count": 492,
   "metadata": {},
   "outputs": [
    {
     "name": "stdout",
     "output_type": "stream",
     "text": [
      "       distance     id  cuisine  \\\n",
      "18191  0.201976  15481        6   \n",
      "8810   0.163512  10869       16   \n",
      "23030  0.152061  20451        2   \n",
      "27576  0.151679  15032       10   \n",
      "38227  0.150612  26914       17   \n",
      "...         ...    ...      ...   \n",
      "3569   0.000000  40006        5   \n",
      "33137  0.000000  40627        5   \n",
      "8529   0.000000  44254       13   \n",
      "7076   0.000000  33194       15   \n",
      "24537  0.000000  22047       15   \n",
      "\n",
      "                                             ingredients  \\\n",
      "18191  [pepper, salt, olive oil, sweet onion, dried o...   \n",
      "8810   [olive oil, vegetable oil cooking spray, salt,...   \n",
      "23030  [kosher salt, sweet paprika, granulated garlic...   \n",
      "27576  [tomatoes, curry powder, oil, pepper, sweet pe...   \n",
      "38227  [sweet onion, baking potatoes, large eggs, kos...   \n",
      "...                                                  ...   \n",
      "3569   [butter, milk, semisweet chocolate, eggs, brew...   \n",
      "33137  [superfine sugar, salt, powdered sugar, egg wh...   \n",
      "8529   [taco seasoning mix, shredded cheddar cheese, ...   \n",
      "7076   [vodka, all-purpose flour, butter, hazelnuts, ...   \n",
      "24537  [rye bread, water, active dry yeast, sugar, ra...   \n",
      "\n",
      "                                            ingredients1  \\\n",
      "18191  pepper salt olive oil sweet onion dried oregan...   \n",
      "8810   olive oil vegetable oil cooking spray salt sea...   \n",
      "23030  kosher salt sweet paprika granulated garlic on...   \n",
      "27576  tomatoes curry powder oil pepper sweet pepper ...   \n",
      "38227  sweet onion baking potatoes large eggs kosher ...   \n",
      "...                                                  ...   \n",
      "3569   butter milk semisweet chocolate eggs brewed es...   \n",
      "33137  superfine sugar salt powdered sugar egg whites...   \n",
      "8529   taco seasoning mix shredded cheddar cheese gro...   \n",
      "7076   vodka all-purpose flour butter hazelnuts confe...   \n",
      "24537     rye bread water active dry yeast sugar raisins   \n",
      "\n",
      "                                            ingredients2  \n",
      "18191  pepper salt oliv oil sweet onion dri oregano t...  \n",
      "8810   oliv oil veget oil cook spray salt season swee...  \n",
      "23030  kosher salt sweet paprika granul garlic onion ...  \n",
      "27576  tomato curri powder oil pepper sweet pepper on...  \n",
      "38227  sweet onion bake potato larg egg kosher salt c...  \n",
      "...                                                  ...  \n",
      "3569      butter milk semisweet chocol egg brew espresso  \n",
      "33137  superfin sugar salt powder sugar egg white pur...  \n",
      "8529   taco season mix shred cheddar chees ground bee...  \n",
      "7076   vodka all-purpos flour butter hazelnut confect...  \n",
      "24537       rye bread water activ dri yeast sugar raisin  \n",
      "\n",
      "[39774 rows x 6 columns]\n"
     ]
    }
   ],
   "source": [
    "print(result1)"
   ]
  },
  {
   "cell_type": "code",
   "execution_count": 493,
   "metadata": {},
   "outputs": [],
   "source": [
    "#final = result1[:,2:]"
   ]
  },
  {
   "cell_type": "code",
   "execution_count": 494,
   "metadata": {},
   "outputs": [],
   "source": [
    "final_result = result1.drop(['ingredients2','cuisine','ingredients','ingredients1'], axis = 1) "
   ]
  },
  {
   "cell_type": "code",
   "execution_count": 495,
   "metadata": {},
   "outputs": [
    {
     "name": "stdout",
     "output_type": "stream",
     "text": [
      "       distance     id\n",
      "18191  0.201976  15481\n",
      "8810   0.163512  10869\n",
      "23030  0.152061  20451\n",
      "27576  0.151679  15032\n",
      "38227  0.150612  26914\n",
      "...         ...    ...\n",
      "3569   0.000000  40006\n",
      "33137  0.000000  40627\n",
      "8529   0.000000  44254\n",
      "7076   0.000000  33194\n",
      "24537  0.000000  22047\n",
      "\n",
      "[39774 rows x 2 columns]\n"
     ]
    }
   ],
   "source": [
    "print(final_result)"
   ]
  },
  {
   "cell_type": "code",
   "execution_count": 496,
   "metadata": {},
   "outputs": [
    {
     "data": {
      "text/plain": [
       "pandas.core.frame.DataFrame"
      ]
     },
     "execution_count": 496,
     "metadata": {},
     "output_type": "execute_result"
    }
   ],
   "source": [
    "type(final_result)"
   ]
  },
  {
   "cell_type": "code",
   "execution_count": 497,
   "metadata": {},
   "outputs": [],
   "source": [
    "final_display = final_result.head(5)"
   ]
  },
  {
   "cell_type": "markdown",
   "metadata": {},
   "source": [
    "# Final Result"
   ]
  },
  {
   "cell_type": "code",
   "execution_count": 498,
   "metadata": {},
   "outputs": [
    {
     "name": "stdout",
     "output_type": "stream",
     "text": [
      "       distance     id\n",
      "18191  0.201976  15481\n",
      "8810   0.163512  10869\n",
      "23030  0.152061  20451\n",
      "27576  0.151679  15032\n",
      "38227  0.150612  26914\n"
     ]
    }
   ],
   "source": [
    "print(final_display)"
   ]
  },
  {
   "cell_type": "code",
   "execution_count": null,
   "metadata": {},
   "outputs": [],
   "source": []
  }
 ],
 "metadata": {
  "kernelspec": {
   "display_name": "Python 3",
   "language": "python",
   "name": "python3"
  },
  "language_info": {
   "codemirror_mode": {
    "name": "ipython",
    "version": 3
   },
   "file_extension": ".py",
   "mimetype": "text/x-python",
   "name": "python",
   "nbconvert_exporter": "python",
   "pygments_lexer": "ipython3",
   "version": "3.7.6"
  }
 },
 "nbformat": 4,
 "nbformat_minor": 4
}
